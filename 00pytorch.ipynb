{
  "nbformat": 4,
  "nbformat_minor": 0,
  "metadata": {
    "colab": {
      "provenance": [],
      "gpuType": "T4",
      "authorship_tag": "ABX9TyMgHbhoxwpFf48QISIURPxC",
      "include_colab_link": true
    },
    "kernelspec": {
      "name": "python3",
      "display_name": "Python 3"
    },
    "language_info": {
      "name": "python"
    }
  },
  "cells": [
    {
      "cell_type": "markdown",
      "metadata": {
        "id": "view-in-github",
        "colab_type": "text"
      },
      "source": [
        "<a href=\"https://colab.research.google.com/github/Aravind-190905/learningpytorch/blob/main/00pytorch.ipynb\" target=\"_parent\"><img src=\"https://colab.research.google.com/assets/colab-badge.svg\" alt=\"Open In Colab\"/></a>"
      ]
    },
    {
      "cell_type": "code",
      "execution_count": 8,
      "metadata": {
        "colab": {
          "base_uri": "https://localhost:8080/"
        },
        "id": "Mx1mkqJFXvQf",
        "outputId": "4fd26d60-5961-420c-f51e-5c1f9c6cb00f"
      },
      "outputs": [
        {
          "output_type": "stream",
          "name": "stdout",
          "text": [
            "/bin/bash: line 1: nvidia-smi: command not found\n"
          ]
        }
      ],
      "source": [
        "!nvidia-smi\n"
      ]
    },
    {
      "cell_type": "markdown",
      "source": [],
      "metadata": {
        "id": "nuBTFVkmYno5"
      }
    },
    {
      "cell_type": "markdown",
      "source": [
        "## **pytorch-00**\n",
        "the course we follow is [https://www.youtube.com/watch?v=V_xro1bcAuA&t=3467s](https://)\n"
      ],
      "metadata": {
        "id": "YwA-yBa6Y5Uh"
      }
    },
    {
      "cell_type": "code",
      "source": [
        "import torch\n",
        "import pandas as pd\n",
        "import numpy as np\n",
        "import matplotlib.pyplot as plt\n",
        "print(torch.__version__)\n"
      ],
      "metadata": {
        "colab": {
          "base_uri": "https://localhost:8080/"
        },
        "id": "jakDxBscZjU5",
        "outputId": "6c003a4c-7ee7-445d-fa2b-96acf7fb1582"
      },
      "execution_count": 9,
      "outputs": [
        {
          "output_type": "stream",
          "name": "stdout",
          "text": [
            "2.8.0+cu126\n"
          ]
        }
      ]
    },
    {
      "cell_type": "markdown",
      "source": [
        "# creating tensors\n"
      ],
      "metadata": {
        "id": "PzLz6Bsabrfq"
      }
    },
    {
      "cell_type": "code",
      "source": [
        "#scalar\n",
        "scalar=torch.tensor(7)\n"
      ],
      "metadata": {
        "id": "z2qb8s4VbxQb"
      },
      "execution_count": 10,
      "outputs": []
    },
    {
      "cell_type": "code",
      "source": [
        "scalar.ndim ## the dimension of the scalar is 0.\n",
        "scalar.item()## get our number back from the tensor."
      ],
      "metadata": {
        "colab": {
          "base_uri": "https://localhost:8080/"
        },
        "id": "u17BivC_cF7L",
        "outputId": "93a722e8-6130-415f-9b43-ce692e98fbed"
      },
      "execution_count": 11,
      "outputs": [
        {
          "output_type": "execute_result",
          "data": {
            "text/plain": [
              "7"
            ]
          },
          "metadata": {},
          "execution_count": 11
        }
      ]
    },
    {
      "cell_type": "code",
      "source": [
        "##vector\n",
        "vector=torch.tensor([3,2])\n",
        "vector.ndim\n",
        "vector.shape ## the shape means the rows and columns."
      ],
      "metadata": {
        "colab": {
          "base_uri": "https://localhost:8080/"
        },
        "id": "pnEbuIvEe8TL",
        "outputId": "8bebd06f-29cf-463b-850d-c4bb0598e46d"
      },
      "execution_count": 12,
      "outputs": [
        {
          "output_type": "execute_result",
          "data": {
            "text/plain": [
              "torch.Size([2])"
            ]
          },
          "metadata": {},
          "execution_count": 12
        }
      ]
    },
    {
      "cell_type": "markdown",
      "source": [
        "## what shape means!\n",
        "shape of a tensor which is basically a matrix here is the number of elements in each direction. say for [1,3,4] the dimension is (3,) and for [[1,3,4],[2,35,4]] the shape is 2 in 1 st tensor and 3 elements in the tensor inside it. hence the size / shape is (2,3)"
      ],
      "metadata": {
        "id": "d4AJDo0J1UN5"
      }
    },
    {
      "cell_type": "code",
      "source": [
        "## matrix\n",
        "mat=torch.tensor([[1,2],[4,5]])\n",
        "mat.ndim  ## the dimension is 2\n",
        "mat.shape"
      ],
      "metadata": {
        "colab": {
          "base_uri": "https://localhost:8080/"
        },
        "id": "aN1CHvz8fddC",
        "outputId": "36ae41df-626c-4bc0-b398-37dce20a0bbc"
      },
      "execution_count": 13,
      "outputs": [
        {
          "output_type": "execute_result",
          "data": {
            "text/plain": [
              "torch.Size([2, 2])"
            ]
          },
          "metadata": {},
          "execution_count": 13
        }
      ]
    },
    {
      "cell_type": "code",
      "source": [
        "## TENSOR\n",
        "TENSOR = torch.tensor([[[1,2,3],[3,6,9],[4,6,5]]])\n",
        "TENSOR.ndim\n",
        "TENSOR[0]"
      ],
      "metadata": {
        "colab": {
          "base_uri": "https://localhost:8080/"
        },
        "id": "bF1Rs9shf_Wa",
        "outputId": "9bab2b9b-5813-4aca-9190-8ba0899beb09"
      },
      "execution_count": 14,
      "outputs": [
        {
          "output_type": "execute_result",
          "data": {
            "text/plain": [
              "tensor([[1, 2, 3],\n",
              "        [3, 6, 9],\n",
              "        [4, 6, 5]])"
            ]
          },
          "metadata": {},
          "execution_count": 14
        }
      ]
    },
    {
      "cell_type": "markdown",
      "source": [
        "# random tensors\n",
        "\n",
        "why random tensors??\n",
        "random tensors are important the way many neural networks work is they eat a lot of random tensors and learn.\n"
      ],
      "metadata": {
        "id": "vO-uC8VsjIgC"
      }
    },
    {
      "cell_type": "code",
      "source": [
        "#create the RANDOM TENSOR tensor of size (3,4)\n",
        "rand_tensor=torch.rand(3,4)\n",
        "rand_tensor"
      ],
      "metadata": {
        "colab": {
          "base_uri": "https://localhost:8080/"
        },
        "id": "34zOQF7njPqy",
        "outputId": "ec430428-8042-4af0-e9c0-41681ddc39bb"
      },
      "execution_count": 15,
      "outputs": [
        {
          "output_type": "execute_result",
          "data": {
            "text/plain": [
              "tensor([[0.6313, 0.1559, 0.6116, 0.5325],\n",
              "        [0.6114, 0.7403, 0.9453, 0.1016],\n",
              "        [0.5433, 0.6334, 0.5610, 0.9575]])"
            ]
          },
          "metadata": {},
          "execution_count": 15
        }
      ]
    },
    {
      "cell_type": "code",
      "source": [
        "## create a random tensor with similar shape to an image tensor\n",
        "img=torch.rand(size=(224,224,3))# let it be the height,width and color channel.\n",
        "# we have red green and blue and we got two dimensions of the image.\n"
      ],
      "metadata": {
        "id": "yl4kYDNSj5aC"
      },
      "execution_count": 16,
      "outputs": []
    },
    {
      "cell_type": "code",
      "source": [
        "## create a tensor of all zeros.\n",
        "s=torch.zeros(3,4)\n",
        "s\n",
        "## we can also make ones\n",
        "m=torch.ones(2,2)\n",
        "m"
      ],
      "metadata": {
        "colab": {
          "base_uri": "https://localhost:8080/"
        },
        "id": "2InD3BwoWYNk",
        "outputId": "9d0fde3a-0afe-42ee-97de-db4f2463ec7e"
      },
      "execution_count": 17,
      "outputs": [
        {
          "output_type": "execute_result",
          "data": {
            "text/plain": [
              "tensor([[1., 1.],\n",
              "        [1., 1.]])"
            ]
          },
          "metadata": {},
          "execution_count": 17
        }
      ]
    },
    {
      "cell_type": "markdown",
      "source": [
        "## creating a tensor in a given range :\n"
      ],
      "metadata": {
        "id": "hA1FHFcHYjTw"
      }
    },
    {
      "cell_type": "code",
      "source": [
        "## use the torch.range()\n",
        "ang=torch.arange(start=2,end=10,step=2)\n",
        "ang   ## step is like jumping."
      ],
      "metadata": {
        "colab": {
          "base_uri": "https://localhost:8080/"
        },
        "id": "LocjGMMcZODv",
        "outputId": "67c4be82-fa9b-4eb4-acbf-ae9df3bcfe1d"
      },
      "execution_count": 18,
      "outputs": [
        {
          "output_type": "execute_result",
          "data": {
            "text/plain": [
              "tensor([2, 4, 6, 8])"
            ]
          },
          "metadata": {},
          "execution_count": 18
        }
      ]
    },
    {
      "cell_type": "code",
      "source": [
        "## tensor like another one\n",
        "tensor_zero=torch.zeros_like(ang)\n",
        "tensor_zero"
      ],
      "metadata": {
        "colab": {
          "base_uri": "https://localhost:8080/"
        },
        "id": "tm1Yrm-RZQkv",
        "outputId": "62827011-cf0e-4292-f6fb-1c97fe766d1e"
      },
      "execution_count": 19,
      "outputs": [
        {
          "output_type": "execute_result",
          "data": {
            "text/plain": [
              "tensor([0, 0, 0, 0])"
            ]
          },
          "metadata": {},
          "execution_count": 19
        }
      ]
    },
    {
      "cell_type": "markdown",
      "source": [
        "# tensor datatypes"
      ],
      "metadata": {
        "id": "-IrDBbOEjaA-"
      }
    },
    {
      "cell_type": "code",
      "source": [
        "float_32_tensor=torch.tensor([1.0,2.0,3.0,4.0],dtype=None,device=\"cpu\",requires_grad=False)\n",
        "float_32_tensor.dtype\n",
        "# ml models usually use the float datatype\n",
        "## here new attribute device where u store the tesor at cpu or cuda (gpu)\n",
        "# require_grad= means to automatically keep the tracking of the gradient."
      ],
      "metadata": {
        "colab": {
          "base_uri": "https://localhost:8080/"
        },
        "id": "pjyvJRwymDH-",
        "outputId": "f47ffb5c-93dc-4e31-b50f-efd3cd59f487"
      },
      "execution_count": 20,
      "outputs": [
        {
          "output_type": "execute_result",
          "data": {
            "text/plain": [
              "torch.float32"
            ]
          },
          "metadata": {},
          "execution_count": 20
        }
      ]
    },
    {
      "cell_type": "markdown",
      "source": [
        " ## a recap\n",
        "we have a **MAJOR** function\n",
        "torch.tensor used to make tensors.\n",
        "fill em with zeros and ones of given size torch.zeros and ones."
      ],
      "metadata": {
        "id": "jKNB5JCfmP2m"
      }
    },
    {
      "cell_type": "code",
      "source": [
        "## major errors in tensors are\n",
        "# the shape of two tensors not being same\n",
        "# not the datatype .\n",
        "# not on the same device."
      ],
      "metadata": {
        "id": "fVrslRfPu4sH"
      },
      "execution_count": 21,
      "outputs": []
    },
    {
      "cell_type": "code",
      "source": [
        "#type conversions\n",
        "float_16_tensor=float_32_tensor.type(torch.float16)\n"
      ],
      "metadata": {
        "id": "f_hkqnoXkTuQ"
      },
      "execution_count": 22,
      "outputs": []
    },
    {
      "cell_type": "code",
      "source": [
        "mul=float_16_tensor*float_32_tensor\n",
        "mul"
      ],
      "metadata": {
        "colab": {
          "base_uri": "https://localhost:8080/"
        },
        "id": "LBzO2GC7lBFh",
        "outputId": "37fdf04e-25a2-4f23-88a8-a6d80f0bf403"
      },
      "execution_count": 23,
      "outputs": [
        {
          "output_type": "execute_result",
          "data": {
            "text/plain": [
              "tensor([ 1.,  4.,  9., 16.])"
            ]
          },
          "metadata": {},
          "execution_count": 23
        }
      ]
    },
    {
      "cell_type": "code",
      "source": [
        "some_ten=torch.rand(3,4)\n",
        "some_ten"
      ],
      "metadata": {
        "colab": {
          "base_uri": "https://localhost:8080/"
        },
        "id": "fZbz8nUpl4Yn",
        "outputId": "36c4a071-a1bc-4094-c49d-e1d1081a63d4"
      },
      "execution_count": 24,
      "outputs": [
        {
          "output_type": "execute_result",
          "data": {
            "text/plain": [
              "tensor([[0.2239, 0.9001, 0.4352, 0.9224],\n",
              "        [0.4799, 0.4903, 0.6083, 0.9365],\n",
              "        [0.4725, 0.5500, 0.6194, 0.1917]])"
            ]
          },
          "metadata": {},
          "execution_count": 24
        }
      ]
    },
    {
      "cell_type": "markdown",
      "source": [
        "**the major difference between shape and the size of a tensor is shape is an  attribute where as the size is a function**"
      ],
      "metadata": {
        "id": "ht-C6bf0nZav"
      }
    },
    {
      "cell_type": "code",
      "source": [
        "some_ten.size()\n",
        "some_ten.shape"
      ],
      "metadata": {
        "colab": {
          "base_uri": "https://localhost:8080/"
        },
        "id": "_oRYBxbsobGH",
        "outputId": "3f66a4f1-6d50-4b31-ee64-97625331c49e"
      },
      "execution_count": 25,
      "outputs": [
        {
          "output_type": "execute_result",
          "data": {
            "text/plain": [
              "torch.Size([3, 4])"
            ]
          },
          "metadata": {},
          "execution_count": 25
        }
      ]
    },
    {
      "cell_type": "code",
      "source": [
        "some_ten.dtype ## dtype is also an attribute and default its 32.\n",
        "some_ten.device  ## this is also and attribute"
      ],
      "metadata": {
        "colab": {
          "base_uri": "https://localhost:8080/"
        },
        "id": "_JIPLciRoiOP",
        "outputId": "8fc54b2d-3062-40e3-bb2d-4f0139d739c2"
      },
      "execution_count": 26,
      "outputs": [
        {
          "output_type": "execute_result",
          "data": {
            "text/plain": [
              "device(type='cpu')"
            ]
          },
          "metadata": {},
          "execution_count": 26
        }
      ]
    },
    {
      "cell_type": "markdown",
      "source": [
        "## tenosr operations\n",
        "includes the operations such as\n",
        "*addition*\n",
        "*substraction*\n",
        "*multiplication*\n",
        "and *matrix multiplication*"
      ],
      "metadata": {
        "id": "hiECSpqOooE3"
      }
    },
    {
      "cell_type": "markdown",
      "source": [
        "## **ADDITION**"
      ],
      "metadata": {
        "id": "b8fEx2TBpdTn"
      }
    },
    {
      "cell_type": "code",
      "source": [
        "#create a tensor\n",
        "tensor=torch.tensor([1,3,4])\n",
        "tensor/10\n",
        "tensor+10\n",
        "tensor-10\n",
        "tensor*10\n",
        "## these are all the scalar operations"
      ],
      "metadata": {
        "colab": {
          "base_uri": "https://localhost:8080/"
        },
        "id": "z1yjh2y8pmkW",
        "outputId": "9794085b-59cd-4760-f338-904a76013c6e"
      },
      "execution_count": 27,
      "outputs": [
        {
          "output_type": "execute_result",
          "data": {
            "text/plain": [
              "tensor([10, 30, 40])"
            ]
          },
          "metadata": {},
          "execution_count": 27
        }
      ]
    },
    {
      "cell_type": "code",
      "source": [
        "## we also have function of torch\n",
        "torch.add(tensor,3)\n",
        "torch.mul(tensor,4)\n",
        "torch.div(tensor,2)\n",
        "torch.sub(tensor,2)"
      ],
      "metadata": {
        "colab": {
          "base_uri": "https://localhost:8080/"
        },
        "id": "mXBbCw_bpx14",
        "outputId": "820218b9-5b0f-4dbf-d2fd-f26b8f7bd47f"
      },
      "execution_count": 28,
      "outputs": [
        {
          "output_type": "execute_result",
          "data": {
            "text/plain": [
              "tensor([-1,  1,  2])"
            ]
          },
          "metadata": {},
          "execution_count": 28
        }
      ]
    },
    {
      "cell_type": "code",
      "source": [
        "\n"
      ],
      "metadata": {
        "id": "h1Yi_PnmqYjX"
      },
      "execution_count": 28,
      "outputs": []
    },
    {
      "cell_type": "markdown",
      "source": [
        "## **matrix multiplication**\n",
        "few sublte points in matrix mutliplication in pytorch.\n",
        "\n",
        "*   when we matrix multiply two single dimensional tensors it does    dot  product btw them. (A@B)\n",
        "*   any dimension more than that we use the MATRIX MULTIPLICATION RULE.\n",
        "*   the multiplication rule is m&n and n&m should be the sizes of  matrices.\n",
        "\n",
        "* we can also use **torch.matmul()**\n",
        "\n"
      ],
      "metadata": {
        "id": "zfhNdGvWrAIv"
      }
    },
    {
      "cell_type": "code",
      "source": [
        "t1=torch.tensor([2,4,5])\n",
        "t2=torch.tensor([1,3,4])\n",
        "t1@t2"
      ],
      "metadata": {
        "id": "0Mt9grULrU-n",
        "colab": {
          "base_uri": "https://localhost:8080/"
        },
        "outputId": "c87ddd09-025d-4cc6-fb5f-9d39d7e3f962"
      },
      "execution_count": 29,
      "outputs": [
        {
          "output_type": "execute_result",
          "data": {
            "text/plain": [
              "tensor(34)"
            ]
          },
          "metadata": {},
          "execution_count": 29
        }
      ]
    },
    {
      "cell_type": "code",
      "source": [
        "ta=torch.tensor([[1,3],[1,2],[1,3]])\n",
        "print(ta.shape)\n",
        "tb=torch.tensor([[1,3,4],[1,2,3]])\n",
        "print(tb.shape)\n",
        "ta@tb"
      ],
      "metadata": {
        "id": "k-MAM3RusI8w",
        "colab": {
          "base_uri": "https://localhost:8080/"
        },
        "outputId": "7b6fb804-4269-465d-fd25-64c33a0bcf78"
      },
      "execution_count": 30,
      "outputs": [
        {
          "output_type": "stream",
          "name": "stdout",
          "text": [
            "torch.Size([3, 2])\n",
            "torch.Size([2, 3])\n"
          ]
        },
        {
          "output_type": "execute_result",
          "data": {
            "text/plain": [
              "tensor([[ 4,  9, 13],\n",
              "        [ 3,  7, 10],\n",
              "        [ 4,  9, 13]])"
            ]
          },
          "metadata": {},
          "execution_count": 30
        }
      ]
    },
    {
      "cell_type": "code",
      "source": [
        "## lets see what happens when we mutliply ta and t1\n",
        "t1@ta\n",
        "## which is not the same as ta @ t1 hence the same matrix rule."
      ],
      "metadata": {
        "colab": {
          "base_uri": "https://localhost:8080/"
        },
        "id": "h_en34l_4ZaY",
        "outputId": "9782f7be-9526-4b90-a2a9-2f19dd7d0c41"
      },
      "execution_count": 31,
      "outputs": [
        {
          "output_type": "execute_result",
          "data": {
            "text/plain": [
              "tensor([11, 29])"
            ]
          },
          "metadata": {},
          "execution_count": 31
        }
      ]
    },
    {
      "cell_type": "code",
      "source": [
        "## then there is the basic mutliplication of element matching.\n",
        "print(t1*t2)\n",
        "## print(ta*tb) this wont happen cause we cant match the elenments."
      ],
      "metadata": {
        "colab": {
          "base_uri": "https://localhost:8080/"
        },
        "id": "9IzsobQn5fUx",
        "outputId": "a16a9733-11f3-4acf-e46d-8ad8655ab134"
      },
      "execution_count": 32,
      "outputs": [
        {
          "output_type": "stream",
          "name": "stdout",
          "text": [
            "tensor([ 2, 12, 20])\n"
          ]
        }
      ]
    },
    {
      "cell_type": "code",
      "source": [
        "torch.mm(ta,tb)   ## matmul and mm same thing."
      ],
      "metadata": {
        "colab": {
          "base_uri": "https://localhost:8080/"
        },
        "id": "P39HBs4o7Dbo",
        "outputId": "d5b3a46d-c3ef-4c07-b6e1-62d51515deb0"
      },
      "execution_count": 33,
      "outputs": [
        {
          "output_type": "execute_result",
          "data": {
            "text/plain": [
              "tensor([[ 4,  9, 13],\n",
              "        [ 3,  7, 10],\n",
              "        [ 4,  9, 13]])"
            ]
          },
          "metadata": {},
          "execution_count": 33
        }
      ]
    },
    {
      "cell_type": "markdown",
      "source": [
        "## we can time things using %% time\n"
      ],
      "metadata": {
        "id": "Wj9yMJhw7aSI"
      }
    },
    {
      "cell_type": "markdown",
      "source": [
        "##transpose of matrix\n"
      ],
      "metadata": {
        "id": "L04GryhM88-o"
      }
    },
    {
      "cell_type": "code",
      "source": [
        "ta.T # t is always capital."
      ],
      "metadata": {
        "colab": {
          "base_uri": "https://localhost:8080/"
        },
        "id": "o7PeRKP4-l3g",
        "outputId": "ff0674d9-d8c5-47a9-8513-143b182912fe"
      },
      "execution_count": 34,
      "outputs": [
        {
          "output_type": "execute_result",
          "data": {
            "text/plain": [
              "tensor([[1, 1, 1],\n",
              "        [3, 2, 3]])"
            ]
          },
          "metadata": {},
          "execution_count": 34
        }
      ]
    },
    {
      "cell_type": "markdown",
      "source": [
        "## find the min max mean etc (tensor aggregration)"
      ],
      "metadata": {
        "id": "pTse2QxAl7Xc"
      }
    },
    {
      "cell_type": "code",
      "source": [
        "## tensor\n",
        "x=torch.arange(0,100,1)\n",
        "torch.min(x) ## we can use the torch function or\n",
        "x.min()"
      ],
      "metadata": {
        "colab": {
          "base_uri": "https://localhost:8080/"
        },
        "id": "UM7Spf45mG0E",
        "outputId": "593233e3-73dd-43d7-ddbc-9cb493acf1fc"
      },
      "execution_count": 40,
      "outputs": [
        {
          "output_type": "execute_result",
          "data": {
            "text/plain": [
              "tensor(0)"
            ]
          },
          "metadata": {},
          "execution_count": 40
        }
      ]
    },
    {
      "cell_type": "markdown",
      "source": [
        "* **TYPE CASTING FOR TENSOR IS DONE USING THE FUNCTION *TO()***"
      ],
      "metadata": {
        "id": "Ki71zUiRmyGN"
      }
    },
    {
      "cell_type": "code",
      "source": [
        "## for the mean funciton we need to have float or complex dtype.\n",
        "x=x.to(torch.float32) ## its always torch.float32.\n"
      ],
      "metadata": {
        "id": "dVf60k61na3E"
      },
      "execution_count": 53,
      "outputs": []
    },
    {
      "cell_type": "code",
      "source": [
        "## find the mean\n",
        "torch.mean(x),x.mean()  ## MEAN ALWAYS NEED A FLOAT OR COMPLEX TENSOR ."
      ],
      "metadata": {
        "colab": {
          "base_uri": "https://localhost:8080/"
        },
        "id": "KY5e-IO1mOC9",
        "outputId": "7a4ec3f8-afd3-4204-f661-cfcb62652344"
      },
      "execution_count": 56,
      "outputs": [
        {
          "output_type": "execute_result",
          "data": {
            "text/plain": [
              "(tensor(49.5000), tensor(49.5000))"
            ]
          },
          "metadata": {},
          "execution_count": 56
        }
      ]
    },
    {
      "cell_type": "code",
      "source": [
        "## sum adds all the elements\n",
        "torch.sum(x),x.sum()\n"
      ],
      "metadata": {
        "colab": {
          "base_uri": "https://localhost:8080/"
        },
        "id": "mrU9fek1mUcU",
        "outputId": "d0198cec-2e6f-4601-873c-b9150e1f03cc"
      },
      "execution_count": 62,
      "outputs": [
        {
          "output_type": "execute_result",
          "data": {
            "text/plain": [
              "(tensor(4950.), tensor(4950.))"
            ]
          },
          "metadata": {},
          "execution_count": 62
        }
      ]
    },
    {
      "cell_type": "code",
      "source": [
        "## tensor.argmin(),argmax() are function that give the indices of min and max.\n",
        "x.argmin(),torch.argmin(x)\n",
        "x.argmax(),torch.argmax(x)"
      ],
      "metadata": {
        "colab": {
          "base_uri": "https://localhost:8080/"
        },
        "id": "vKAB8XBqpMa0",
        "outputId": "653abd0a-3f4f-42b5-fd51-1c0c9c296305"
      },
      "execution_count": 71,
      "outputs": [
        {
          "output_type": "execute_result",
          "data": {
            "text/plain": [
              "(tensor(99), tensor(99))"
            ]
          },
          "metadata": {},
          "execution_count": 71
        }
      ]
    },
    {
      "cell_type": "code",
      "source": [],
      "metadata": {
        "id": "tk_5_WtZp_iM"
      },
      "execution_count": 72,
      "outputs": []
    },
    {
      "cell_type": "code",
      "source": [],
      "metadata": {
        "id": "67elWnChqWBc"
      },
      "execution_count": null,
      "outputs": []
    }
  ]
}