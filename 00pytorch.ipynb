{
  "nbformat": 4,
  "nbformat_minor": 0,
  "metadata": {
    "colab": {
      "provenance": [],
      "gpuType": "T4",
      "authorship_tag": "ABX9TyP19M3bLzm+Oxl3nWanVTeW",
      "include_colab_link": true
    },
    "kernelspec": {
      "name": "python3",
      "display_name": "Python 3"
    },
    "language_info": {
      "name": "python"
    }
  },
  "cells": [
    {
      "cell_type": "markdown",
      "metadata": {
        "id": "view-in-github",
        "colab_type": "text"
      },
      "source": [
        "<a href=\"https://colab.research.google.com/github/Aravind-190905/learningpytorch/blob/main/00pytorch.ipynb\" target=\"_parent\"><img src=\"https://colab.research.google.com/assets/colab-badge.svg\" alt=\"Open In Colab\"/></a>"
      ]
    },
    {
      "cell_type": "code",
      "execution_count": 2,
      "metadata": {
        "colab": {
          "base_uri": "https://localhost:8080/"
        },
        "id": "Mx1mkqJFXvQf",
        "outputId": "bbc0f813-d444-472c-99ce-a9c05b7def40"
      },
      "outputs": [
        {
          "output_type": "stream",
          "name": "stdout",
          "text": [
            "/bin/bash: line 1: nvidia-smi: command not found\n"
          ]
        }
      ],
      "source": [
        "!nvidia-smi\n"
      ]
    },
    {
      "cell_type": "markdown",
      "source": [],
      "metadata": {
        "id": "nuBTFVkmYno5"
      }
    },
    {
      "cell_type": "markdown",
      "source": [
        "## **pytorch-00**\n",
        "the course we follow is [https://www.youtube.com/watch?v=V_xro1bcAuA&t=3467s](https://)\n"
      ],
      "metadata": {
        "id": "YwA-yBa6Y5Uh"
      }
    },
    {
      "cell_type": "code",
      "source": [
        "import torch\n",
        "import pandas as pd\n",
        "import numpy as np\n",
        "import matplotlib.pyplot as plt\n",
        "print(torch.__version__)\n"
      ],
      "metadata": {
        "colab": {
          "base_uri": "https://localhost:8080/"
        },
        "id": "jakDxBscZjU5",
        "outputId": "9cc5a542-1dac-4715-abb3-e25f28662043"
      },
      "execution_count": 3,
      "outputs": [
        {
          "output_type": "stream",
          "name": "stdout",
          "text": [
            "2.8.0+cu126\n"
          ]
        }
      ]
    },
    {
      "cell_type": "markdown",
      "source": [
        "# creating tensors\n"
      ],
      "metadata": {
        "id": "PzLz6Bsabrfq"
      }
    },
    {
      "cell_type": "code",
      "source": [
        "#scalar\n",
        "scalar=torch.tensor(7)\n"
      ],
      "metadata": {
        "id": "z2qb8s4VbxQb"
      },
      "execution_count": 4,
      "outputs": []
    },
    {
      "cell_type": "code",
      "source": [
        "scalar.ndim ## the dimension of the scalar is 0.\n",
        "scalar.item()## get our number back from the tensor."
      ],
      "metadata": {
        "colab": {
          "base_uri": "https://localhost:8080/"
        },
        "id": "u17BivC_cF7L",
        "outputId": "17e0f9e4-c928-464a-85a3-4433f63dbfad"
      },
      "execution_count": 5,
      "outputs": [
        {
          "output_type": "execute_result",
          "data": {
            "text/plain": [
              "7"
            ]
          },
          "metadata": {},
          "execution_count": 5
        }
      ]
    },
    {
      "cell_type": "code",
      "source": [
        "##vector\n",
        "vector=torch.tensor([3,2])\n",
        "vector.ndim\n",
        "vector.shape ## the shape means the rows and columns."
      ],
      "metadata": {
        "colab": {
          "base_uri": "https://localhost:8080/"
        },
        "id": "pnEbuIvEe8TL",
        "outputId": "c69ab7a5-feb2-464b-80af-11bdc3331301"
      },
      "execution_count": 6,
      "outputs": [
        {
          "output_type": "execute_result",
          "data": {
            "text/plain": [
              "torch.Size([2])"
            ]
          },
          "metadata": {},
          "execution_count": 6
        }
      ]
    },
    {
      "cell_type": "markdown",
      "source": [
        "## what shape means!\n",
        "shape of a tensor which is basically a matrix here is the number of elements in each direction. say for [1,3,4] the dimension is (3,) and for [[1,3,4],[2,35,4]] the shape is 2 in 1 st tensor and 3 elements in the tensor inside it. hence the size / shape is (2,3)"
      ],
      "metadata": {
        "id": "d4AJDo0J1UN5"
      }
    },
    {
      "cell_type": "code",
      "source": [
        "## matrix\n",
        "mat=torch.tensor([[1,2],[4,5]])\n",
        "mat.ndim  ## the dimension is 2\n",
        "mat.shape"
      ],
      "metadata": {
        "colab": {
          "base_uri": "https://localhost:8080/"
        },
        "id": "aN1CHvz8fddC",
        "outputId": "c3feeec2-f5ab-4f98-d539-15e76bd0fa07"
      },
      "execution_count": 7,
      "outputs": [
        {
          "output_type": "execute_result",
          "data": {
            "text/plain": [
              "torch.Size([2, 2])"
            ]
          },
          "metadata": {},
          "execution_count": 7
        }
      ]
    },
    {
      "cell_type": "code",
      "source": [
        "## TENSOR\n",
        "TENSOR = torch.tensor([[[1,2,3],[3,6,9],[4,6,5]]])\n",
        "TENSOR.ndim\n",
        "TENSOR[0]"
      ],
      "metadata": {
        "colab": {
          "base_uri": "https://localhost:8080/"
        },
        "id": "bF1Rs9shf_Wa",
        "outputId": "0123fecb-6785-4066-ca9c-8576623b721f"
      },
      "execution_count": 8,
      "outputs": [
        {
          "output_type": "execute_result",
          "data": {
            "text/plain": [
              "tensor([[1, 2, 3],\n",
              "        [3, 6, 9],\n",
              "        [4, 6, 5]])"
            ]
          },
          "metadata": {},
          "execution_count": 8
        }
      ]
    },
    {
      "cell_type": "markdown",
      "source": [
        "# random tensors\n",
        "\n",
        "why random tensors??\n",
        "random tensors are important the way many neural networks work is they eat a lot of random tensors and learn.\n"
      ],
      "metadata": {
        "id": "vO-uC8VsjIgC"
      }
    },
    {
      "cell_type": "code",
      "source": [
        "#create the RANDOM TENSOR tensor of size (3,4)\n",
        "rand_tensor=torch.rand(3,4)\n",
        "rand_tensor"
      ],
      "metadata": {
        "colab": {
          "base_uri": "https://localhost:8080/"
        },
        "id": "34zOQF7njPqy",
        "outputId": "6797877a-7527-4fba-850d-f8fc0fb3e75c"
      },
      "execution_count": 9,
      "outputs": [
        {
          "output_type": "execute_result",
          "data": {
            "text/plain": [
              "tensor([[0.9803, 0.4176, 0.6227, 0.4872],\n",
              "        [0.8821, 0.7489, 0.6147, 0.3277],\n",
              "        [0.0085, 0.8448, 0.2848, 0.4993]])"
            ]
          },
          "metadata": {},
          "execution_count": 9
        }
      ]
    },
    {
      "cell_type": "code",
      "source": [
        "## create a random tensor with similar shape to an image tensor\n",
        "img=torch.rand(size=(224,224,3))# let it be the height,width and color channel.\n",
        "# we have red green and blue and we got two dimensions of the image.\n"
      ],
      "metadata": {
        "id": "yl4kYDNSj5aC"
      },
      "execution_count": 10,
      "outputs": []
    },
    {
      "cell_type": "code",
      "source": [
        "## create a tensor of all zeros.\n",
        "s=torch.zeros(3,4)\n",
        "s\n",
        "## we can also make ones\n",
        "m=torch.ones(2,2)\n",
        "m"
      ],
      "metadata": {
        "colab": {
          "base_uri": "https://localhost:8080/"
        },
        "id": "2InD3BwoWYNk",
        "outputId": "326ef327-07b2-4571-bb04-6479f589ccf7"
      },
      "execution_count": 11,
      "outputs": [
        {
          "output_type": "execute_result",
          "data": {
            "text/plain": [
              "tensor([[1., 1.],\n",
              "        [1., 1.]])"
            ]
          },
          "metadata": {},
          "execution_count": 11
        }
      ]
    },
    {
      "cell_type": "markdown",
      "source": [
        "## creating a tensor in a given range :\n"
      ],
      "metadata": {
        "id": "hA1FHFcHYjTw"
      }
    },
    {
      "cell_type": "code",
      "source": [
        "## use the torch.range()\n",
        "ang=torch.arange(start=2,end=10,step=2)\n",
        "ang   ## step is like jumping."
      ],
      "metadata": {
        "colab": {
          "base_uri": "https://localhost:8080/"
        },
        "id": "LocjGMMcZODv",
        "outputId": "864d993a-1f4e-4f32-a2bb-356aecc433b2"
      },
      "execution_count": 12,
      "outputs": [
        {
          "output_type": "execute_result",
          "data": {
            "text/plain": [
              "tensor([2, 4, 6, 8])"
            ]
          },
          "metadata": {},
          "execution_count": 12
        }
      ]
    },
    {
      "cell_type": "code",
      "source": [
        "## tensor like another one\n",
        "tensor_zero=torch.zeros_like(ang)\n",
        "tensor_zero"
      ],
      "metadata": {
        "colab": {
          "base_uri": "https://localhost:8080/"
        },
        "id": "tm1Yrm-RZQkv",
        "outputId": "7cf588d5-2aba-4da4-e476-316b3137c253"
      },
      "execution_count": 13,
      "outputs": [
        {
          "output_type": "execute_result",
          "data": {
            "text/plain": [
              "tensor([0, 0, 0, 0])"
            ]
          },
          "metadata": {},
          "execution_count": 13
        }
      ]
    },
    {
      "cell_type": "markdown",
      "source": [
        "# tensor datatypes"
      ],
      "metadata": {
        "id": "-IrDBbOEjaA-"
      }
    },
    {
      "cell_type": "code",
      "source": [
        "float_32_tensor=torch.tensor([1.0,2.0,3.0,4.0],dtype=None,device=\"cpu\",requires_grad=False)\n",
        "float_32_tensor.dtype\n",
        "# ml models usually use the float datatype\n",
        "## here new attribute device where u store the tesor at cpu or cuda (gpu)\n",
        "# require_grad= means to automatically keep the tracking of the gradient."
      ],
      "metadata": {
        "colab": {
          "base_uri": "https://localhost:8080/"
        },
        "id": "pjyvJRwymDH-",
        "outputId": "4801b5d9-066f-46f2-9d15-a9ca6c015896"
      },
      "execution_count": 14,
      "outputs": [
        {
          "output_type": "execute_result",
          "data": {
            "text/plain": [
              "torch.float32"
            ]
          },
          "metadata": {},
          "execution_count": 14
        }
      ]
    },
    {
      "cell_type": "markdown",
      "source": [
        " ## a recap\n",
        "we have a **MAJOR** function\n",
        "torch.tensor used to make tensors.\n",
        "fill em with zeros and ones of given size torch.zeros and ones."
      ],
      "metadata": {
        "id": "jKNB5JCfmP2m"
      }
    },
    {
      "cell_type": "code",
      "source": [
        "## major errors in tensors are\n",
        "# the shape of two tensors not being same\n",
        "# not the datatype .\n",
        "# not on the same device."
      ],
      "metadata": {
        "id": "fVrslRfPu4sH"
      },
      "execution_count": 15,
      "outputs": []
    },
    {
      "cell_type": "code",
      "source": [
        "#type conversions\n",
        "float_16_tensor=float_32_tensor.type(torch.float16)\n"
      ],
      "metadata": {
        "id": "f_hkqnoXkTuQ"
      },
      "execution_count": 16,
      "outputs": []
    },
    {
      "cell_type": "code",
      "source": [
        "mul=float_16_tensor*float_32_tensor\n",
        "mul"
      ],
      "metadata": {
        "colab": {
          "base_uri": "https://localhost:8080/"
        },
        "id": "LBzO2GC7lBFh",
        "outputId": "3c6767e4-7c94-4a93-f7c9-90d162caadd8"
      },
      "execution_count": 17,
      "outputs": [
        {
          "output_type": "execute_result",
          "data": {
            "text/plain": [
              "tensor([ 1.,  4.,  9., 16.])"
            ]
          },
          "metadata": {},
          "execution_count": 17
        }
      ]
    },
    {
      "cell_type": "code",
      "source": [
        "some_ten=torch.rand(3,4)\n",
        "some_ten"
      ],
      "metadata": {
        "colab": {
          "base_uri": "https://localhost:8080/"
        },
        "id": "fZbz8nUpl4Yn",
        "outputId": "b1bc7a1b-e1a9-46c9-95f0-6961d43ff5e2"
      },
      "execution_count": 18,
      "outputs": [
        {
          "output_type": "execute_result",
          "data": {
            "text/plain": [
              "tensor([[0.5002, 0.8054, 0.5541, 0.7719],\n",
              "        [0.9569, 0.5984, 0.1038, 0.9260],\n",
              "        [0.0740, 0.3075, 0.1019, 0.2432]])"
            ]
          },
          "metadata": {},
          "execution_count": 18
        }
      ]
    },
    {
      "cell_type": "markdown",
      "source": [
        "**the major difference between shape and the size of a tensor is shape is an  attribute where as the size is a function**"
      ],
      "metadata": {
        "id": "ht-C6bf0nZav"
      }
    },
    {
      "cell_type": "code",
      "source": [
        "some_ten.size()\n",
        "some_ten.shape"
      ],
      "metadata": {
        "colab": {
          "base_uri": "https://localhost:8080/"
        },
        "id": "_oRYBxbsobGH",
        "outputId": "223937da-51dc-4bbc-fa2f-cf04a33d79df"
      },
      "execution_count": 19,
      "outputs": [
        {
          "output_type": "execute_result",
          "data": {
            "text/plain": [
              "torch.Size([3, 4])"
            ]
          },
          "metadata": {},
          "execution_count": 19
        }
      ]
    },
    {
      "cell_type": "code",
      "source": [
        "some_ten.dtype ## dtype is also an attribute and default its 32.\n",
        "some_ten.device  ## this is also and attribute"
      ],
      "metadata": {
        "colab": {
          "base_uri": "https://localhost:8080/"
        },
        "id": "_JIPLciRoiOP",
        "outputId": "fee4b6dd-e3ac-4624-8994-0959b6ef44ca"
      },
      "execution_count": 20,
      "outputs": [
        {
          "output_type": "execute_result",
          "data": {
            "text/plain": [
              "device(type='cpu')"
            ]
          },
          "metadata": {},
          "execution_count": 20
        }
      ]
    },
    {
      "cell_type": "markdown",
      "source": [
        "## tenosr operations\n",
        "includes the operations such as\n",
        "*addition*\n",
        "*substraction*\n",
        "*multiplication*\n",
        "and *matrix multiplication*"
      ],
      "metadata": {
        "id": "hiECSpqOooE3"
      }
    },
    {
      "cell_type": "markdown",
      "source": [
        "## **ADDITION**"
      ],
      "metadata": {
        "id": "b8fEx2TBpdTn"
      }
    },
    {
      "cell_type": "code",
      "source": [
        "#create a tensor\n",
        "tensor=torch.tensor([1,3,4])\n",
        "tensor/10\n",
        "tensor+10\n",
        "tensor-10\n",
        "tensor*10\n",
        "## these are all the scalar operations"
      ],
      "metadata": {
        "colab": {
          "base_uri": "https://localhost:8080/"
        },
        "id": "z1yjh2y8pmkW",
        "outputId": "da156185-4cd9-45dd-ceb6-fa3ad2bcd4f7"
      },
      "execution_count": 21,
      "outputs": [
        {
          "output_type": "execute_result",
          "data": {
            "text/plain": [
              "tensor([10, 30, 40])"
            ]
          },
          "metadata": {},
          "execution_count": 21
        }
      ]
    },
    {
      "cell_type": "code",
      "source": [
        "## we also have function of torch\n",
        "torch.add(tensor,3)\n",
        "torch.mul(tensor,4)\n",
        "torch.div(tensor,2)\n",
        "torch.sub(tensor,2)"
      ],
      "metadata": {
        "colab": {
          "base_uri": "https://localhost:8080/"
        },
        "id": "mXBbCw_bpx14",
        "outputId": "69961a13-4285-49ff-e171-800cb1ff668c"
      },
      "execution_count": 22,
      "outputs": [
        {
          "output_type": "execute_result",
          "data": {
            "text/plain": [
              "tensor([-1,  1,  2])"
            ]
          },
          "metadata": {},
          "execution_count": 22
        }
      ]
    },
    {
      "cell_type": "code",
      "source": [
        "\n"
      ],
      "metadata": {
        "id": "h1Yi_PnmqYjX"
      },
      "execution_count": 22,
      "outputs": []
    },
    {
      "cell_type": "markdown",
      "source": [
        "## **matrix multiplication**\n",
        "few sublte points in matrix mutliplication in pytorch.\n",
        "\n",
        "*   when we matrix multiply two single dimensional tensors it does    dot  product btw them. (A@B)\n",
        "*   any dimension more than that we use the MATRIX MULTIPLICATION RULE.\n",
        "*   the multiplication rule is m&n and n&m should be the sizes of  matrices.\n",
        "\n",
        "* we can also use **torch.matmul()**\n",
        "\n"
      ],
      "metadata": {
        "id": "zfhNdGvWrAIv"
      }
    },
    {
      "cell_type": "code",
      "source": [
        "t1=torch.tensor([2,4,5])\n",
        "t2=torch.tensor([1,3,4])\n",
        "t1@t2"
      ],
      "metadata": {
        "id": "0Mt9grULrU-n",
        "colab": {
          "base_uri": "https://localhost:8080/"
        },
        "outputId": "9a5582ed-8789-4256-b449-ee902d410226"
      },
      "execution_count": 23,
      "outputs": [
        {
          "output_type": "execute_result",
          "data": {
            "text/plain": [
              "tensor(34)"
            ]
          },
          "metadata": {},
          "execution_count": 23
        }
      ]
    },
    {
      "cell_type": "code",
      "source": [
        "ta=torch.tensor([[1,3],[1,2],[1,3]])\n",
        "print(ta.shape)\n",
        "tb=torch.tensor([[1,3,4],[1,2,3]])\n",
        "print(tb.shape)\n",
        "ta@tb"
      ],
      "metadata": {
        "id": "k-MAM3RusI8w",
        "colab": {
          "base_uri": "https://localhost:8080/"
        },
        "outputId": "6eaa34a9-50be-48c6-f212-9c8831c7bcff"
      },
      "execution_count": 24,
      "outputs": [
        {
          "output_type": "stream",
          "name": "stdout",
          "text": [
            "torch.Size([3, 2])\n",
            "torch.Size([2, 3])\n"
          ]
        },
        {
          "output_type": "execute_result",
          "data": {
            "text/plain": [
              "tensor([[ 4,  9, 13],\n",
              "        [ 3,  7, 10],\n",
              "        [ 4,  9, 13]])"
            ]
          },
          "metadata": {},
          "execution_count": 24
        }
      ]
    },
    {
      "cell_type": "code",
      "source": [
        "## lets see what happens when we mutliply ta and t1\n",
        "t1@ta\n",
        "## which is not the same as ta @ t1 hence the same matrix rule."
      ],
      "metadata": {
        "colab": {
          "base_uri": "https://localhost:8080/"
        },
        "id": "h_en34l_4ZaY",
        "outputId": "d0c60e20-e297-4849-bf0f-2dacb033fe5d"
      },
      "execution_count": 25,
      "outputs": [
        {
          "output_type": "execute_result",
          "data": {
            "text/plain": [
              "tensor([11, 29])"
            ]
          },
          "metadata": {},
          "execution_count": 25
        }
      ]
    },
    {
      "cell_type": "code",
      "source": [
        "## then there is the basic mutliplication of element matching.\n",
        "print(t1*t2)\n",
        "## print(ta*tb) this wont happen cause we cant match the elenments."
      ],
      "metadata": {
        "colab": {
          "base_uri": "https://localhost:8080/"
        },
        "id": "9IzsobQn5fUx",
        "outputId": "db739d8f-1e91-4a4f-e5ce-42cc368bd3d7"
      },
      "execution_count": 26,
      "outputs": [
        {
          "output_type": "stream",
          "name": "stdout",
          "text": [
            "tensor([ 2, 12, 20])\n"
          ]
        }
      ]
    },
    {
      "cell_type": "code",
      "source": [
        "torch.mm(ta,tb)   ## matmul and mm same thing."
      ],
      "metadata": {
        "colab": {
          "base_uri": "https://localhost:8080/"
        },
        "id": "P39HBs4o7Dbo",
        "outputId": "a07350f7-ccbb-4ec5-cc93-5116704ccb8e"
      },
      "execution_count": 27,
      "outputs": [
        {
          "output_type": "execute_result",
          "data": {
            "text/plain": [
              "tensor([[ 4,  9, 13],\n",
              "        [ 3,  7, 10],\n",
              "        [ 4,  9, 13]])"
            ]
          },
          "metadata": {},
          "execution_count": 27
        }
      ]
    },
    {
      "cell_type": "markdown",
      "source": [
        "## we can time things using %% time\n"
      ],
      "metadata": {
        "id": "Wj9yMJhw7aSI"
      }
    },
    {
      "cell_type": "markdown",
      "source": [
        "##transpose of matrix\n"
      ],
      "metadata": {
        "id": "L04GryhM88-o"
      }
    },
    {
      "cell_type": "code",
      "source": [
        "ta.T # t is always capital."
      ],
      "metadata": {
        "colab": {
          "base_uri": "https://localhost:8080/"
        },
        "id": "o7PeRKP4-l3g",
        "outputId": "38cde382-d45b-400b-f19a-42bf83f7d2b5"
      },
      "execution_count": 28,
      "outputs": [
        {
          "output_type": "execute_result",
          "data": {
            "text/plain": [
              "tensor([[1, 1, 1],\n",
              "        [3, 2, 3]])"
            ]
          },
          "metadata": {},
          "execution_count": 28
        }
      ]
    },
    {
      "cell_type": "markdown",
      "source": [
        "## find the min max mean etc (tensor aggregration)"
      ],
      "metadata": {
        "id": "pTse2QxAl7Xc"
      }
    },
    {
      "cell_type": "code",
      "source": [
        "## tensor\n",
        "x=torch.arange(0,100,1)\n",
        "torch.min(x) ## we can use the torch function or\n",
        "x.min()"
      ],
      "metadata": {
        "colab": {
          "base_uri": "https://localhost:8080/"
        },
        "id": "UM7Spf45mG0E",
        "outputId": "54d80107-b712-4465-e33c-5320204ecab0"
      },
      "execution_count": 29,
      "outputs": [
        {
          "output_type": "execute_result",
          "data": {
            "text/plain": [
              "tensor(0)"
            ]
          },
          "metadata": {},
          "execution_count": 29
        }
      ]
    },
    {
      "cell_type": "markdown",
      "source": [
        "* **TYPE CASTING FOR TENSOR IS DONE USING THE FUNCTION *TO()***"
      ],
      "metadata": {
        "id": "Ki71zUiRmyGN"
      }
    },
    {
      "cell_type": "code",
      "source": [
        "## for the mean funciton we need to have float or complex dtype.\n",
        "x=x.to(torch.float32) ## its always torch.float32.\n"
      ],
      "metadata": {
        "id": "dVf60k61na3E"
      },
      "execution_count": 30,
      "outputs": []
    },
    {
      "cell_type": "code",
      "source": [
        "## find the mean\n",
        "torch.mean(x),x.mean()  ## MEAN ALWAYS NEED A FLOAT OR COMPLEX TENSOR ."
      ],
      "metadata": {
        "colab": {
          "base_uri": "https://localhost:8080/"
        },
        "id": "KY5e-IO1mOC9",
        "outputId": "b70908f6-2c90-4e2a-d370-5ac6c7b17de4"
      },
      "execution_count": 31,
      "outputs": [
        {
          "output_type": "execute_result",
          "data": {
            "text/plain": [
              "(tensor(49.5000), tensor(49.5000))"
            ]
          },
          "metadata": {},
          "execution_count": 31
        }
      ]
    },
    {
      "cell_type": "code",
      "source": [
        "## sum adds all the elements\n",
        "torch.sum(x),x.sum()\n"
      ],
      "metadata": {
        "colab": {
          "base_uri": "https://localhost:8080/"
        },
        "id": "mrU9fek1mUcU",
        "outputId": "2464df24-3201-410f-9876-1ccf6f7395b7"
      },
      "execution_count": 32,
      "outputs": [
        {
          "output_type": "execute_result",
          "data": {
            "text/plain": [
              "(tensor(4950.), tensor(4950.))"
            ]
          },
          "metadata": {},
          "execution_count": 32
        }
      ]
    },
    {
      "cell_type": "code",
      "source": [
        "## tensor.argmin(),argmax() are function that give the indices of min and max.\n",
        "x.argmin(),torch.argmin(x)\n",
        "x.argmax(),torch.argmax(x)"
      ],
      "metadata": {
        "colab": {
          "base_uri": "https://localhost:8080/"
        },
        "id": "vKAB8XBqpMa0",
        "outputId": "9cd7cb4e-8cb6-4c8f-86d6-073248994ae7"
      },
      "execution_count": 33,
      "outputs": [
        {
          "output_type": "execute_result",
          "data": {
            "text/plain": [
              "(tensor(99), tensor(99))"
            ]
          },
          "metadata": {},
          "execution_count": 33
        }
      ]
    },
    {
      "cell_type": "markdown",
      "source": [
        "## reshaping stacking squeezing and unsqeezing tensors\n",
        "* reshaping- changing the shape of the tensor.\n",
        "* stacking\n",
        "* cat\n",
        "* squeeze\n",
        "* unsqueeze"
      ],
      "metadata": {
        "id": "tk_5_WtZp_iM"
      }
    },
    {
      "cell_type": "code",
      "source": [
        "# how to add an extra dimension.\n",
        "x=torch.arange(1.,10.)\n",
        "x.reshape(3,3)"
      ],
      "metadata": {
        "colab": {
          "base_uri": "https://localhost:8080/"
        },
        "id": "67elWnChqWBc",
        "outputId": "b15e39b7-ef82-4d2b-b11c-4a42cee851b4"
      },
      "execution_count": 34,
      "outputs": [
        {
          "output_type": "execute_result",
          "data": {
            "text/plain": [
              "tensor([[1., 2., 3.],\n",
              "        [4., 5., 6.],\n",
              "        [7., 8., 9.]])"
            ]
          },
          "metadata": {},
          "execution_count": 34
        }
      ]
    },
    {
      "cell_type": "code",
      "source": [
        "#change the view.\n",
        "z=x.view(1,9)\n"
      ],
      "metadata": {
        "id": "3WUw_ydMr7xM"
      },
      "execution_count": 35,
      "outputs": []
    },
    {
      "cell_type": "markdown",
      "source": [
        " **view is basically like reshape but when u store it in another variable it \"shares \" the memory so when we change z in the above example it must change x.**\n"
      ],
      "metadata": {
        "id": "neaeH8TXuLCk"
      }
    },
    {
      "cell_type": "code",
      "source": [
        "z[:,0]=5\n",
        "z,x"
      ],
      "metadata": {
        "colab": {
          "base_uri": "https://localhost:8080/"
        },
        "id": "Wax7HxjQvlQs",
        "outputId": "af6e0b03-7ee7-4ab6-cfda-0b8fa2b3b643"
      },
      "execution_count": 36,
      "outputs": [
        {
          "output_type": "execute_result",
          "data": {
            "text/plain": [
              "(tensor([[5., 2., 3., 4., 5., 6., 7., 8., 9.]]),\n",
              " tensor([5., 2., 3., 4., 5., 6., 7., 8., 9.]))"
            ]
          },
          "metadata": {},
          "execution_count": 36
        }
      ]
    },
    {
      "cell_type": "markdown",
      "source": [
        "## **STACKING VS CAT**\n",
        "* torch.stack() is a function that adds one tensor to other in a really specific way.say we have two tensors [1,3,4],[3,4,5]. STACKING means to create a tensor that stores both of the tensors together. we can add new dimension. [[1,3,4],[3,4,5]]\n",
        "\n",
        "* stack() takes a tuple and **dim as arguments**. here dim means axis.hence we wanna stack column wise we can use dim 1.\n",
        "\n",
        "* **stacking requires the tensors to be of same size**\n",
        "\n",
        "*torch.cat() just appends two tensors.\n",
        "[1,3,4,3,4,5]\n"
      ],
      "metadata": {
        "id": "PCiLbMk29P5p"
      }
    },
    {
      "cell_type": "code",
      "source": [
        "a=torch.tensor([1,2,3])\n",
        "b=torch.tensor([4,5,6])\n",
        "#torch.stack([a,b])"
      ],
      "metadata": {
        "id": "r50sum-dv7Jc"
      },
      "execution_count": 51,
      "outputs": []
    },
    {
      "cell_type": "code",
      "source": [
        "torch.cat([a,b])\n",
        "\n"
      ],
      "metadata": {
        "colab": {
          "base_uri": "https://localhost:8080/"
        },
        "id": "vzZ3YXA89CmR",
        "outputId": "3a02d298-651a-41b8-a516-ae07de7a9fa6"
      },
      "execution_count": 50,
      "outputs": [
        {
          "output_type": "execute_result",
          "data": {
            "text/plain": [
              "tensor([1, 2, 3, 4, 4, 5, 6])"
            ]
          },
          "metadata": {},
          "execution_count": 50
        }
      ]
    },
    {
      "cell_type": "code",
      "source": [
        "ans=torch.stack([a,b],dim=1)\n",
        "ans"
      ],
      "metadata": {
        "id": "pgH0a8JJ-9Ox",
        "colab": {
          "base_uri": "https://localhost:8080/"
        },
        "outputId": "448949d9-936a-4f9d-9922-548f044e706b"
      },
      "execution_count": 44,
      "outputs": [
        {
          "output_type": "execute_result",
          "data": {
            "text/plain": [
              "tensor([[1, 4],\n",
              "        [2, 5],\n",
              "        [3, 6]])"
            ]
          },
          "metadata": {},
          "execution_count": 44
        }
      ]
    },
    {
      "cell_type": "markdown",
      "source": [
        "\n",
        "## unsqueeze and squeeze\n",
        " unsqueeze does increase the dimnesion of the tensor. squeeze does the opposite.\n"
      ],
      "metadata": {
        "id": "J3HFzRLmBHAZ"
      }
    },
    {
      "cell_type": "code",
      "source": [
        "torch.squeeze(a,dim=0)"
      ],
      "metadata": {
        "id": "iKnP-PtoP58x",
        "colab": {
          "base_uri": "https://localhost:8080/"
        },
        "outputId": "e1ec6c9a-2a8a-4a4f-9ca8-1c18ba22ecab"
      },
      "execution_count": 59,
      "outputs": [
        {
          "output_type": "execute_result",
          "data": {
            "text/plain": [
              "tensor([1, 2, 3])"
            ]
          },
          "metadata": {},
          "execution_count": 59
        }
      ]
    },
    {
      "cell_type": "markdown",
      "source": [
        "## permute\n",
        "torch.permute() returns view"
      ],
      "metadata": {
        "id": "tCgBVKhkrPsg"
      }
    },
    {
      "cell_type": "code",
      "source": [
        "ta=torch.tensor([[1,2,3],[4,5,6]])\n",
        "ta.shape"
      ],
      "metadata": {
        "colab": {
          "base_uri": "https://localhost:8080/"
        },
        "id": "91hgwbrpvEoI",
        "outputId": "515a06ca-c052-4f29-e9fb-b187c56edf24"
      },
      "execution_count": 65,
      "outputs": [
        {
          "output_type": "execute_result",
          "data": {
            "text/plain": [
              "torch.Size([2, 3])"
            ]
          },
          "metadata": {},
          "execution_count": 65
        }
      ]
    },
    {
      "cell_type": "code",
      "source": [
        "timg=torch.rand(size=[2,2,3])\n",
        "timg"
      ],
      "metadata": {
        "colab": {
          "base_uri": "https://localhost:8080/"
        },
        "id": "RkWKw75xvIb_",
        "outputId": "ce50bb73-350c-4608-c922-235140a54ca5"
      },
      "execution_count": 70,
      "outputs": [
        {
          "output_type": "execute_result",
          "data": {
            "text/plain": [
              "tensor([[[0.1730, 0.9510, 0.2121],\n",
              "         [0.4180, 0.8596, 0.9146]],\n",
              "\n",
              "        [[0.2985, 0.8591, 0.3292],\n",
              "         [0.3024, 0.7823, 0.9817]]])"
            ]
          },
          "metadata": {},
          "execution_count": 70
        }
      ]
    },
    {
      "cell_type": "code",
      "source": [
        "timg.reshape(shape=[3,2,2])"
      ],
      "metadata": {
        "colab": {
          "base_uri": "https://localhost:8080/"
        },
        "id": "QNKYxYaGvmyH",
        "outputId": "b1cf60d2-4f28-4b9f-deba-a6943e950f6d"
      },
      "execution_count": 72,
      "outputs": [
        {
          "output_type": "execute_result",
          "data": {
            "text/plain": [
              "tensor([[[0.1730, 0.9510],\n",
              "         [0.2121, 0.4180]],\n",
              "\n",
              "        [[0.8596, 0.9146],\n",
              "         [0.2985, 0.8591]],\n",
              "\n",
              "        [[0.3292, 0.3024],\n",
              "         [0.7823, 0.9817]]])"
            ]
          },
          "metadata": {},
          "execution_count": 72
        }
      ]
    },
    {
      "cell_type": "code",
      "source": [
        "timg.permute(2,0,1)"
      ],
      "metadata": {
        "colab": {
          "base_uri": "https://localhost:8080/"
        },
        "id": "hBs7yMfky13_",
        "outputId": "cb4b6b6e-e374-41db-ca96-f31d71885d9a"
      },
      "execution_count": 73,
      "outputs": [
        {
          "output_type": "execute_result",
          "data": {
            "text/plain": [
              "tensor([[[0.1730, 0.4180],\n",
              "         [0.2985, 0.3024]],\n",
              "\n",
              "        [[0.9510, 0.8596],\n",
              "         [0.8591, 0.7823]],\n",
              "\n",
              "        [[0.2121, 0.9146],\n",
              "         [0.3292, 0.9817]]])"
            ]
          },
          "metadata": {},
          "execution_count": 73
        }
      ]
    },
    {
      "cell_type": "code",
      "source": [
        "x = torch.tensor([[[1,2,3],\n",
        "                  [4,5,6]],[[7,8,9],[10,11,12]]])"
      ],
      "metadata": {
        "id": "-V_r8xpE0TIn"
      },
      "execution_count": 77,
      "outputs": []
    },
    {
      "cell_type": "code",
      "source": [
        "x.permute(0,1,2)"
      ],
      "metadata": {
        "colab": {
          "base_uri": "https://localhost:8080/"
        },
        "id": "YlRcNRWo1lVf",
        "outputId": "d5d1f41b-c86e-4a33-b125-4d7eea0ff0f6"
      },
      "execution_count": 81,
      "outputs": [
        {
          "output_type": "execute_result",
          "data": {
            "text/plain": [
              "tensor([[[ 1,  2,  3],\n",
              "         [ 4,  5,  6]],\n",
              "\n",
              "        [[ 7,  8,  9],\n",
              "         [10, 11, 12]]])"
            ]
          },
          "metadata": {},
          "execution_count": 81
        }
      ]
    },
    {
      "cell_type": "code",
      "source": [
        "x.permute(0,2,1)"
      ],
      "metadata": {
        "colab": {
          "base_uri": "https://localhost:8080/"
        },
        "id": "gV9iUIDL4zAs",
        "outputId": "80f869b4-5ac5-4c57-fc02-b472e527215f"
      },
      "execution_count": 82,
      "outputs": [
        {
          "output_type": "execute_result",
          "data": {
            "text/plain": [
              "tensor([[[ 1,  4],\n",
              "         [ 2,  5],\n",
              "         [ 3,  6]],\n",
              "\n",
              "        [[ 7, 10],\n",
              "         [ 8, 11],\n",
              "         [ 9, 12]]])"
            ]
          },
          "metadata": {},
          "execution_count": 82
        }
      ]
    },
    {
      "cell_type": "markdown",
      "source": [
        "## indexing in tensors\n",
        "* same as the numpy indexing.\n"
      ],
      "metadata": {
        "id": "en5cs2LF453M"
      }
    },
    {
      "cell_type": "code",
      "source": [
        "ten1=torch.arange(1,10).reshape(1,3,3)\n",
        "ten1"
      ],
      "metadata": {
        "colab": {
          "base_uri": "https://localhost:8080/"
        },
        "id": "niYh33rN9Fx0",
        "outputId": "3ffa993d-9a4d-48f4-bfad-8eed4f26fbcd"
      },
      "execution_count": 103,
      "outputs": [
        {
          "output_type": "execute_result",
          "data": {
            "text/plain": [
              "tensor([[[1, 2, 3],\n",
              "         [4, 5, 6],\n",
              "         [7, 8, 9]]])"
            ]
          },
          "metadata": {},
          "execution_count": 103
        }
      ]
    },
    {
      "cell_type": "code",
      "source": [
        "## lets indeex\n",
        "ten1[0,2,2]\n",
        "## indexing in python always starts with 0"
      ],
      "metadata": {
        "colab": {
          "base_uri": "https://localhost:8080/"
        },
        "id": "q6x7HxK19Luz",
        "outputId": "69032736-9c40-4e3b-bd74-764d136bf364"
      },
      "execution_count": 95,
      "outputs": [
        {
          "output_type": "execute_result",
          "data": {
            "text/plain": [
              "tensor(9)"
            ]
          },
          "metadata": {},
          "execution_count": 95
        }
      ]
    },
    {
      "cell_type": "code",
      "source": [
        "## slicing\n",
        "ten1[:,1,:] ## this gives the first row in all the matrices.\n",
        "## give a particular column\n",
        "ten1[0,:,1]\n",
        "## we can always print the whole thing using\n",
        "ten1[:,:,:]"
      ],
      "metadata": {
        "colab": {
          "base_uri": "https://localhost:8080/"
        },
        "id": "7qrAQ9uM9uvT",
        "outputId": "71f841d3-b5e7-4972-ead9-f7e393868d63"
      },
      "execution_count": 98,
      "outputs": [
        {
          "output_type": "execute_result",
          "data": {
            "text/plain": [
              "tensor([[[1, 2, 3],\n",
              "         [4, 5, 6],\n",
              "         [7, 8, 9]]])"
            ]
          },
          "metadata": {},
          "execution_count": 98
        }
      ]
    },
    {
      "cell_type": "code",
      "source": [
        "## we can also do this\n",
        "ten1[0][0] # note that the zeroth dimension for this is from the left."
      ],
      "metadata": {
        "colab": {
          "base_uri": "https://localhost:8080/"
        },
        "id": "0y1PpDmP-Ii6",
        "outputId": "c4b0a024-20d0-43a6-dc1f-8b2feb8be45f"
      },
      "execution_count": 100,
      "outputs": [
        {
          "output_type": "execute_result",
          "data": {
            "text/plain": [
              "tensor([1, 2, 3])"
            ]
          },
          "metadata": {},
          "execution_count": 100
        }
      ]
    },
    {
      "cell_type": "code",
      "source": [
        "ten1[0][2][2]"
      ],
      "metadata": {
        "colab": {
          "base_uri": "https://localhost:8080/"
        },
        "id": "l40LoUSp-xok",
        "outputId": "27a7e9b4-228e-4294-dd0f-71c1b6b4256d"
      },
      "execution_count": 101,
      "outputs": [
        {
          "output_type": "execute_result",
          "data": {
            "text/plain": [
              "tensor(9)"
            ]
          },
          "metadata": {},
          "execution_count": 101
        }
      ]
    },
    {
      "cell_type": "markdown",
      "source": [
        "## practice"
      ],
      "metadata": {
        "id": "tj54TjkX_LXz"
      }
    },
    {
      "cell_type": "code",
      "source": [
        "# all elements of 0 and 1 dimensions and 2nd of 2nd\n",
        "ten1[:,:,2]"
      ],
      "metadata": {
        "colab": {
          "base_uri": "https://localhost:8080/"
        },
        "id": "-3LRMVer_a3j",
        "outputId": "11b36783-06ac-4916-87ea-7f3fdc7eebeb"
      },
      "execution_count": 109,
      "outputs": [
        {
          "output_type": "execute_result",
          "data": {
            "text/plain": [
              "tensor([[3, 6, 9]])"
            ]
          },
          "metadata": {},
          "execution_count": 109
        }
      ]
    },
    {
      "cell_type": "code",
      "source": [
        "ten1[:][0][0]"
      ],
      "metadata": {
        "colab": {
          "base_uri": "https://localhost:8080/"
        },
        "id": "LnEfywT1AP1T",
        "outputId": "cdb88124-2a0c-4a23-dbe3-667ca01e9ff5"
      },
      "execution_count": 114,
      "outputs": [
        {
          "output_type": "execute_result",
          "data": {
            "text/plain": [
              "tensor([1, 2, 3])"
            ]
          },
          "metadata": {},
          "execution_count": 114
        }
      ]
    },
    {
      "cell_type": "code",
      "source": [],
      "metadata": {
        "id": "6V1jU7kLAuUs"
      },
      "execution_count": null,
      "outputs": []
    }
  ]
}