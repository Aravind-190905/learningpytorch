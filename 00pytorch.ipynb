{
  "nbformat": 4,
  "nbformat_minor": 0,
  "metadata": {
    "colab": {
      "provenance": [],
      "gpuType": "T4",
      "authorship_tag": "ABX9TyMLiNKNeZYloe58kKZ8HwvH",
      "include_colab_link": true
    },
    "kernelspec": {
      "name": "python3",
      "display_name": "Python 3"
    },
    "language_info": {
      "name": "python"
    }
  },
  "cells": [
    {
      "cell_type": "markdown",
      "metadata": {
        "id": "view-in-github",
        "colab_type": "text"
      },
      "source": [
        "<a href=\"https://colab.research.google.com/github/Aravind-190905/learningpytorch/blob/main/00pytorch.ipynb\" target=\"_parent\"><img src=\"https://colab.research.google.com/assets/colab-badge.svg\" alt=\"Open In Colab\"/></a>"
      ]
    },
    {
      "cell_type": "code",
      "execution_count": 2,
      "metadata": {
        "colab": {
          "base_uri": "https://localhost:8080/"
        },
        "id": "Mx1mkqJFXvQf",
        "outputId": "19e03d00-417e-4acb-eda2-65e8b7e2b1f8"
      },
      "outputs": [
        {
          "output_type": "stream",
          "name": "stdout",
          "text": [
            "/bin/bash: line 1: nvidia-smi: command not found\n"
          ]
        }
      ],
      "source": [
        "!nvidia-smi\n"
      ]
    },
    {
      "cell_type": "markdown",
      "source": [],
      "metadata": {
        "id": "nuBTFVkmYno5"
      }
    },
    {
      "cell_type": "markdown",
      "source": [
        "## **pytorch-00**\n",
        "the course we follow is [https://www.youtube.com/watch?v=V_xro1bcAuA&t=3467s](https://)\n"
      ],
      "metadata": {
        "id": "YwA-yBa6Y5Uh"
      }
    },
    {
      "cell_type": "code",
      "source": [
        "import torch\n",
        "import pandas as pd\n",
        "import numpy as np\n",
        "import matplotlib.pyplot as plt\n",
        "print(torch.__version__)\n"
      ],
      "metadata": {
        "colab": {
          "base_uri": "https://localhost:8080/"
        },
        "id": "jakDxBscZjU5",
        "outputId": "ea083dae-b7c4-4f92-850f-582140798046"
      },
      "execution_count": 3,
      "outputs": [
        {
          "output_type": "stream",
          "name": "stdout",
          "text": [
            "2.8.0+cu126\n"
          ]
        }
      ]
    },
    {
      "cell_type": "markdown",
      "source": [
        "# creating tensors\n"
      ],
      "metadata": {
        "id": "PzLz6Bsabrfq"
      }
    },
    {
      "cell_type": "code",
      "source": [
        "#scalar\n",
        "scalar=torch.tensor(7)\n"
      ],
      "metadata": {
        "id": "z2qb8s4VbxQb"
      },
      "execution_count": 4,
      "outputs": []
    },
    {
      "cell_type": "code",
      "source": [
        "scalar.ndim ## the dimension of the scalar is 0.\n",
        "scalar.item()## get our number back from the tensor."
      ],
      "metadata": {
        "colab": {
          "base_uri": "https://localhost:8080/"
        },
        "id": "u17BivC_cF7L",
        "outputId": "a3464614-1a5e-4778-fe4b-d26071f8ca14"
      },
      "execution_count": 5,
      "outputs": [
        {
          "output_type": "execute_result",
          "data": {
            "text/plain": [
              "7"
            ]
          },
          "metadata": {},
          "execution_count": 5
        }
      ]
    },
    {
      "cell_type": "code",
      "source": [
        "##vector\n",
        "vector=torch.tensor([3,2])\n",
        "vector.ndim\n",
        "vector.shape ## the shape means the rows and columns."
      ],
      "metadata": {
        "colab": {
          "base_uri": "https://localhost:8080/"
        },
        "id": "pnEbuIvEe8TL",
        "outputId": "31408f3d-a413-4c66-ea2e-03942f506daf"
      },
      "execution_count": 6,
      "outputs": [
        {
          "output_type": "execute_result",
          "data": {
            "text/plain": [
              "torch.Size([2])"
            ]
          },
          "metadata": {},
          "execution_count": 6
        }
      ]
    },
    {
      "cell_type": "code",
      "source": [
        "## matrix\n",
        "mat=torch.tensor([[1,2],[4,5]])\n",
        "mat.ndim  ## the dimension is 2\n",
        "mat.shape"
      ],
      "metadata": {
        "colab": {
          "base_uri": "https://localhost:8080/"
        },
        "id": "aN1CHvz8fddC",
        "outputId": "75a1ac0b-9a7e-4b25-bb1f-8c026e41fef0"
      },
      "execution_count": 7,
      "outputs": [
        {
          "output_type": "execute_result",
          "data": {
            "text/plain": [
              "torch.Size([2, 2])"
            ]
          },
          "metadata": {},
          "execution_count": 7
        }
      ]
    },
    {
      "cell_type": "code",
      "source": [
        "## TENSOR\n",
        "TENSOR = torch.tensor([[[1,2,3],[3,6,9],[4,6,5]]])\n",
        "TENSOR.ndim\n",
        "TENSOR[0]"
      ],
      "metadata": {
        "colab": {
          "base_uri": "https://localhost:8080/"
        },
        "id": "bF1Rs9shf_Wa",
        "outputId": "7871e077-a01a-47b3-889e-f48916cea102"
      },
      "execution_count": 8,
      "outputs": [
        {
          "output_type": "execute_result",
          "data": {
            "text/plain": [
              "tensor([[1, 2, 3],\n",
              "        [3, 6, 9],\n",
              "        [4, 6, 5]])"
            ]
          },
          "metadata": {},
          "execution_count": 8
        }
      ]
    },
    {
      "cell_type": "markdown",
      "source": [
        "# random tensors\n",
        "\n",
        "why random tensors??\n",
        "random tensors are important the way many neural networks work is they eat a lot of random tensors and learn.\n"
      ],
      "metadata": {
        "id": "vO-uC8VsjIgC"
      }
    },
    {
      "cell_type": "code",
      "source": [
        "#create the RANDOM TENSOR tensor of size (3,4)\n",
        "rand_tensor=torch.rand(3,4)\n",
        "rand_tensor"
      ],
      "metadata": {
        "colab": {
          "base_uri": "https://localhost:8080/"
        },
        "id": "34zOQF7njPqy",
        "outputId": "b3810ddd-9e73-494a-cf6f-5afd10bb09de"
      },
      "execution_count": 9,
      "outputs": [
        {
          "output_type": "execute_result",
          "data": {
            "text/plain": [
              "tensor([[0.8892, 0.4690, 0.1912, 0.4830],\n",
              "        [0.2428, 0.8139, 0.1603, 0.5972],\n",
              "        [0.0540, 0.2284, 0.7048, 0.7296]])"
            ]
          },
          "metadata": {},
          "execution_count": 9
        }
      ]
    },
    {
      "cell_type": "code",
      "source": [
        "## create a random tensor with similar shape to an image tensor\n",
        "img=torch.rand(size=(224,224,3))# let it be the height,width and color channel.\n",
        "# we have red green and blue and we got two dimensions of the image.\n"
      ],
      "metadata": {
        "id": "yl4kYDNSj5aC"
      },
      "execution_count": 10,
      "outputs": []
    },
    {
      "cell_type": "code",
      "source": [
        "## create a tensor of all zeros.\n",
        "s=torch.zeros(3,4)\n",
        "s\n",
        "## we can also make ones\n",
        "m=torch.ones(2,2)\n",
        "m"
      ],
      "metadata": {
        "colab": {
          "base_uri": "https://localhost:8080/"
        },
        "id": "2InD3BwoWYNk",
        "outputId": "39f83937-535f-41b5-aa98-bd8696d8ec58"
      },
      "execution_count": 11,
      "outputs": [
        {
          "output_type": "execute_result",
          "data": {
            "text/plain": [
              "tensor([[1., 1.],\n",
              "        [1., 1.]])"
            ]
          },
          "metadata": {},
          "execution_count": 11
        }
      ]
    },
    {
      "cell_type": "markdown",
      "source": [
        "## creating a tensor in a given range :\n"
      ],
      "metadata": {
        "id": "hA1FHFcHYjTw"
      }
    },
    {
      "cell_type": "code",
      "source": [
        "## use the torch.range()\n",
        "ang=torch.arange(start=2,end=10,step=2)\n",
        "ang   ## step is like jumping."
      ],
      "metadata": {
        "colab": {
          "base_uri": "https://localhost:8080/"
        },
        "id": "LocjGMMcZODv",
        "outputId": "0e5b78f3-9bbe-4f40-8eb9-1d216c2d565a"
      },
      "execution_count": 12,
      "outputs": [
        {
          "output_type": "execute_result",
          "data": {
            "text/plain": [
              "tensor([2, 4, 6, 8])"
            ]
          },
          "metadata": {},
          "execution_count": 12
        }
      ]
    },
    {
      "cell_type": "code",
      "source": [
        "## tensor like another one\n",
        "tensor_zero=torch.zeros_like(ang)\n",
        "tensor_zero"
      ],
      "metadata": {
        "colab": {
          "base_uri": "https://localhost:8080/"
        },
        "id": "tm1Yrm-RZQkv",
        "outputId": "eb60dab0-3777-4947-ab42-beed0fd573f2"
      },
      "execution_count": 13,
      "outputs": [
        {
          "output_type": "execute_result",
          "data": {
            "text/plain": [
              "tensor([0, 0, 0, 0])"
            ]
          },
          "metadata": {},
          "execution_count": 13
        }
      ]
    },
    {
      "cell_type": "markdown",
      "source": [
        "# tensor datatypes"
      ],
      "metadata": {
        "id": "-IrDBbOEjaA-"
      }
    },
    {
      "cell_type": "code",
      "source": [
        "float_32_tensor=torch.tensor([1.0,2.0,3.0,4.0],dtype=None,device=\"cpu\",requires_grad=False)\n",
        "float_32_tensor.dtype\n",
        "# ml models usually use the float datatype\n",
        "## here new attribute device where u store the tesor at cpu or cuda (gpu)\n",
        "# require_grad= means to automatically keep the tracking of the gradient."
      ],
      "metadata": {
        "colab": {
          "base_uri": "https://localhost:8080/"
        },
        "id": "pjyvJRwymDH-",
        "outputId": "c7cd5e35-7251-4561-c2e6-e77731dde04c"
      },
      "execution_count": 14,
      "outputs": [
        {
          "output_type": "execute_result",
          "data": {
            "text/plain": [
              "torch.float32"
            ]
          },
          "metadata": {},
          "execution_count": 14
        }
      ]
    },
    {
      "cell_type": "markdown",
      "source": [
        " ## a recap\n",
        "we have a **MAJOR** function\n",
        "torch.tensor used to make tensors.\n",
        "fill em with zeros and ones of given size torch.zeros and ones."
      ],
      "metadata": {
        "id": "jKNB5JCfmP2m"
      }
    },
    {
      "cell_type": "code",
      "source": [
        "## major errors in tensors are\n",
        "# the shape of two tensors not being same\n",
        "# not the datatype .\n",
        "# not on the same device."
      ],
      "metadata": {
        "id": "fVrslRfPu4sH"
      },
      "execution_count": 15,
      "outputs": []
    },
    {
      "cell_type": "code",
      "source": [
        "#type conversions\n",
        "float_16_tensor=float_32_tensor.type(torch.float16)\n"
      ],
      "metadata": {
        "colab": {
          "base_uri": "https://localhost:8080/",
          "height": 35
        },
        "id": "f_hkqnoXkTuQ",
        "outputId": "61e7ec35-48c8-4d90-a0af-f994535a3090"
      },
      "execution_count": 18,
      "outputs": [
        {
          "output_type": "execute_result",
          "data": {
            "text/plain": [
              "'torch.HalfTensor'"
            ],
            "application/vnd.google.colaboratory.intrinsic+json": {
              "type": "string"
            }
          },
          "metadata": {},
          "execution_count": 18
        }
      ]
    },
    {
      "cell_type": "code",
      "source": [
        "mul=float_16_tensor*float_32_tensor\n",
        "mul"
      ],
      "metadata": {
        "colab": {
          "base_uri": "https://localhost:8080/"
        },
        "id": "LBzO2GC7lBFh",
        "outputId": "dbceb78f-5c8f-4f68-9e9e-a75ec0d3ef7a"
      },
      "execution_count": 19,
      "outputs": [
        {
          "output_type": "execute_result",
          "data": {
            "text/plain": [
              "tensor([ 1.,  4.,  9., 16.])"
            ]
          },
          "metadata": {},
          "execution_count": 19
        }
      ]
    },
    {
      "cell_type": "code",
      "source": [
        "some_ten=torch.rand(3,4)\n",
        "some_ten"
      ],
      "metadata": {
        "colab": {
          "base_uri": "https://localhost:8080/"
        },
        "id": "fZbz8nUpl4Yn",
        "outputId": "cb8b9520-5205-4e33-b5af-0e78efe2a448"
      },
      "execution_count": 26,
      "outputs": [
        {
          "output_type": "execute_result",
          "data": {
            "text/plain": [
              "tensor([[0.7988, 0.1181, 0.2504, 0.3366],\n",
              "        [0.7002, 0.0406, 0.7420, 0.8356],\n",
              "        [0.9037, 0.8128, 0.5915, 0.5611]])"
            ]
          },
          "metadata": {},
          "execution_count": 26
        }
      ]
    },
    {
      "cell_type": "markdown",
      "source": [
        "**the major difference between shape and the size of a tensor is shape is an  attribute where as the size is a function**"
      ],
      "metadata": {
        "id": "ht-C6bf0nZav"
      }
    },
    {
      "cell_type": "code",
      "source": [
        "some_ten.size()\n",
        "some_ten.shape"
      ],
      "metadata": {
        "colab": {
          "base_uri": "https://localhost:8080/"
        },
        "id": "_oRYBxbsobGH",
        "outputId": "51a89c4c-ac28-44e6-fbfc-33cdb5025bd4"
      },
      "execution_count": 29,
      "outputs": [
        {
          "output_type": "execute_result",
          "data": {
            "text/plain": [
              "torch.Size([3, 4])"
            ]
          },
          "metadata": {},
          "execution_count": 29
        }
      ]
    },
    {
      "cell_type": "code",
      "source": [
        "some_ten.dtype ## dtype is also an attribute and default its 32.\n",
        "some_ten.device  ## this is also and attribute"
      ],
      "metadata": {
        "colab": {
          "base_uri": "https://localhost:8080/"
        },
        "id": "_JIPLciRoiOP",
        "outputId": "1c005d26-ae92-4b8a-ec97-4125f318fbb9"
      },
      "execution_count": 31,
      "outputs": [
        {
          "output_type": "execute_result",
          "data": {
            "text/plain": [
              "device(type='cpu')"
            ]
          },
          "metadata": {},
          "execution_count": 31
        }
      ]
    },
    {
      "cell_type": "markdown",
      "source": [
        "## tenosr operations\n",
        "includes the operations such as\n",
        "*addition*\n",
        "*substraction*\n",
        "*multiplication*\n",
        "and *matrix multiplication*"
      ],
      "metadata": {
        "id": "hiECSpqOooE3"
      }
    },
    {
      "cell_type": "markdown",
      "source": [
        "## **ADDITION**"
      ],
      "metadata": {
        "id": "b8fEx2TBpdTn"
      }
    },
    {
      "cell_type": "code",
      "source": [
        "#create a tensor\n",
        "tensor=torch.tensor([1,3,4])\n",
        "tensor/10\n",
        "tensor+10\n",
        "tensor-10\n",
        "tensor*10\n",
        "## these are all the scalar operations"
      ],
      "metadata": {
        "colab": {
          "base_uri": "https://localhost:8080/"
        },
        "id": "z1yjh2y8pmkW",
        "outputId": "f37832f3-c94b-491d-c76f-91b364eb8c4b"
      },
      "execution_count": 34,
      "outputs": [
        {
          "output_type": "execute_result",
          "data": {
            "text/plain": [
              "tensor([10, 30, 40])"
            ]
          },
          "metadata": {},
          "execution_count": 34
        }
      ]
    },
    {
      "cell_type": "code",
      "source": [
        "## we also have function of torch\n",
        "torch.add(tensor,3)\n",
        "torch.mul(tensor,4)\n",
        "torch.div(tensor,2)\n",
        "torch.sub(tensor,2)"
      ],
      "metadata": {
        "colab": {
          "base_uri": "https://localhost:8080/"
        },
        "id": "mXBbCw_bpx14",
        "outputId": "86158b5d-8b1f-4c10-a37d-01bcee5fc456"
      },
      "execution_count": 39,
      "outputs": [
        {
          "output_type": "execute_result",
          "data": {
            "text/plain": [
              "tensor([-1,  1,  2])"
            ]
          },
          "metadata": {},
          "execution_count": 39
        }
      ]
    },
    {
      "cell_type": "code",
      "source": [
        "\n"
      ],
      "metadata": {
        "id": "h1Yi_PnmqYjX"
      },
      "execution_count": 46,
      "outputs": []
    },
    {
      "cell_type": "markdown",
      "source": [
        "## **matrix multiplication**"
      ],
      "metadata": {
        "id": "zfhNdGvWrAIv"
      }
    },
    {
      "cell_type": "code",
      "source": [
        "## two main ways of perfroming the multiplication.\n"
      ],
      "metadata": {
        "id": "0Mt9grULrU-n"
      },
      "execution_count": 47,
      "outputs": []
    },
    {
      "cell_type": "code",
      "source": [],
      "metadata": {
        "id": "k-MAM3RusI8w"
      },
      "execution_count": null,
      "outputs": []
    }
  ]
}